{
 "cells": [
  {
   "cell_type": "markdown",
   "metadata": {},
   "source": [
    "Euler Totient Function \\phi\n",
    "\n",
    "Used to calculate Number of co-primes to number N in range [1 , N]"
   ]
  },
  {
   "cell_type": "markdown",
   "metadata": {},
   "source": [
    "# Motivating Examples\n",
    "\n",
    "---\n",
    "\n",
    "## The Lorenz Equations\n",
    "\n",
    "### Source\n",
    "\n",
    "```latex\n",
    "\\begin{aligned}\n",
    "\\dot{x} & = \\sigma(y-x) \\\\\n",
    "\\dot{y} & = \\rho x - y - xz \\\\\n",
    "\\dot{z} & = -\\beta z + xy\n",
    "\\end{aligned}\n",
    "```\n",
    "\n",
    "### Display\n",
    "\n",
    "\\begin{aligned}\n",
    "\\dot{x} & = \\sigma(y-x) \\\\\n",
    "\\dot{y} & = \\rho x - y - xz \\\\\n",
    "\\dot{z} & = -\\beta z + xy\n",
    "\\end{aligned}"
   ]
  },
 "nbformat": 4,
 "nbformat_minor": 0
}